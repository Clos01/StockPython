{
 "cells": [
  {
   "cell_type": "code",
   "execution_count": 9,
   "metadata": {},
   "outputs": [
    {
     "ename": "NameError",
     "evalue": "name 'data' is not defined",
     "output_type": "error",
     "traceback": [
      "\u001b[31m---------------------------------------------------------------------------\u001b[39m",
      "\u001b[31mNameError\u001b[39m                                 Traceback (most recent call last)",
      "\u001b[36mCell\u001b[39m\u001b[36m \u001b[39m\u001b[32mIn[9]\u001b[39m\u001b[32m, line 8\u001b[39m\n\u001b[32m      2\u001b[39m \u001b[38;5;28;01mimport\u001b[39;00m\u001b[38;5;250m \u001b[39m\u001b[34;01mmatplotlib\u001b[39;00m\u001b[34;01m.\u001b[39;00m\u001b[34;01mpyplot\u001b[39;00m\u001b[38;5;250m \u001b[39m\u001b[38;5;28;01mas\u001b[39;00m\u001b[38;5;250m \u001b[39m\u001b[34;01mplt\u001b[39;00m\n\u001b[32m      4\u001b[39m \u001b[38;5;66;03m# Assuming you have your data in a DataFrame named 'data'\u001b[39;00m\n\u001b[32m      5\u001b[39m \n\u001b[32m      6\u001b[39m \u001b[38;5;66;03m# Define additional support and resistance levels using your desired criteria\u001b[39;00m\n\u001b[32m      7\u001b[39m \u001b[38;5;66;03m# Example: using 25th and 75th percentiles\u001b[39;00m\n\u001b[32m----> \u001b[39m\u001b[32m8\u001b[39m support = \u001b[43mdata\u001b[49m[\u001b[33m'\u001b[39m\u001b[33mClose\u001b[39m\u001b[33m'\u001b[39m].quantile(\u001b[32m0.25\u001b[39m)\n\u001b[32m      9\u001b[39m resistance = data[\u001b[33m'\u001b[39m\u001b[33mClose\u001b[39m\u001b[33m'\u001b[39m].quantile(\u001b[32m0.75\u001b[39m)\n\u001b[32m     11\u001b[39m support_2 = data[\u001b[33m'\u001b[39m\u001b[33mClose\u001b[39m\u001b[33m'\u001b[39m].quantile(\u001b[32m0.15\u001b[39m)  \u001b[38;5;66;03m# Optional: Add additional support levels\u001b[39;00m\n",
      "\u001b[31mNameError\u001b[39m: name 'data' is not defined"
     ]
    }
   ],
   "source": [
    "import pandas as pd\n",
    "import matplotlib.pyplot as plt\n",
    "\n",
    "# Assuming you have your data in a DataFrame named 'data'\n",
    "\n",
    "# Define additional support and resistance levels using your desired criteria\n",
    "# Example: using 25th and 75th percentiles\n",
    "support = data['Close'].quantile(0.25)\n",
    "resistance = data['Close'].quantile(0.75)\n",
    "\n",
    "support_2 = data['Close'].quantile(0.15)  # Optional: Add additional support levels\n",
    "resistance_2 = data['Close'].quantile(0.85)  # Optional: Add additional resistance levels\n",
    "\n",
    "# Plotting\n",
    "plt.figure(figsize=(15, 7))\n",
    "\n",
    "# Plotting Close Price\n",
    "plt.plot(data['Close'], label='Close Price')\n",
    "\n",
    "# Plotting Support Lines\n",
    "plt.hlines(support, xmin=data.index[0], xmax=data.index[-1], colors='green', linestyles='dashed', label='Support 1')\n",
    "plt.hlines(support_2, xmin=data.index[0], xmax=data.index[-1], colors='green', linestyles='dotted', label='Support 2')\n",
    "# Add more support lines as needed using adjusted variable names\n",
    "\n",
    "# Plotting Resistance Lines\n",
    "plt.hlines(resistance, xmin=data.index[0], xmax=data.index[-1], colors='red', linestyles='dashed', label='Resistance 1')\n",
    "plt.hlines(resistance_2, xmin=data.index[0], xmax=data.index[-1], colors='red', linestyles='dotted', label='Resistance 2')\n",
    "# Add more resistance lines as needed using adjusted variable names\n",
    "\n",
    "# Displaying Legends\n",
    "plt.legend()\n",
    "\n",
    "# Add labels and title\n",
    "plt.title('Price Action Analysis with Multiple Support and Resistance Lines')\n",
    "plt.xlabel('Date')\n",
    "plt.ylabel('Price')\n",
    "plt.show()\n"
   ]
  }
 ],
 "metadata": {
  "kernelspec": {
   "display_name": "venv_trading",
   "language": "python",
   "name": "python3"
  },
  "language_info": {
   "codemirror_mode": {
    "name": "ipython",
    "version": 3
   },
   "file_extension": ".py",
   "mimetype": "text/x-python",
   "name": "python",
   "nbconvert_exporter": "python",
   "pygments_lexer": "ipython3",
   "version": "3.11.3"
  }
 },
 "nbformat": 4,
 "nbformat_minor": 2
}
